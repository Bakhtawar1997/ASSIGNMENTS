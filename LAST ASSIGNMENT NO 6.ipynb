{
 "cells": [
  {
   "cell_type": "code",
   "execution_count": 46,
   "metadata": {},
   "outputs": [
    {
     "name": "stdout",
     "output_type": "stream",
     "text": [
      "Object Oriented Programming, its is a programming style which is associated with the concept of class and object.\n"
     ]
    }
   ],
   "source": [
    "# question no 1\n",
    "print(\"Object Oriented Programming, its is a programming style which is associated with the concept of class and object.\")"
   ]
  },
  {
   "cell_type": "code",
   "execution_count": 44,
   "metadata": {},
   "outputs": [
    {
     "name": "stdout",
     "output_type": "stream",
     "text": [
      "Benefits of OOP...\n",
      "1-- Reuse of code through inheritance.\n",
      "2-- It is easy to maintain modify existing code.\n"
     ]
    }
   ],
   "source": [
    "# question no 2\n",
    "print(\"Benefits of OOP...\")\n",
    "print(\"1-- Reuse of code through inheritance.\")\n",
    "print(\"2-- It is easy to maintain modify existing code.\")"
   ]
  },
  {
   "cell_type": "code",
   "execution_count": 47,
   "metadata": {},
   "outputs": [
    {
     "name": "stdout",
     "output_type": "stream",
     "text": [
      "Method and a function are the same, with different terms. \n",
      "A method is a procedure or function in object-oriented programming.\n"
     ]
    }
   ],
   "source": [
    "# question no 3\n",
    "print(\"Method and a function are the same, with different terms. \\nA method is a procedure or function in object-oriented programming.\")"
   ]
  },
  {
   "cell_type": "code",
   "execution_count": 48,
   "metadata": {},
   "outputs": [
    {
     "name": "stdout",
     "output_type": "stream",
     "text": [
      " CLASS...\n",
      " The class can be defined as a collection of objects. It is a logical entity that has some specific attributes and methods.\n",
      "OBJECT... \n",
      " The object is an entity that has state and behavior.\n",
      "ATTRIBUTE...\n",
      " Inheritance is the most important aspect of object-oriented programming which simulates the real world concept of inheritance.\n",
      "BEHAVIORS...\n",
      " Behaviors are the methods corresponding to the behavior of real world objects\n"
     ]
    }
   ],
   "source": [
    "# Question no 4\n",
    "# Class\n",
    "print(\" CLASS...\\n The class can be defined as a collection of objects. It is a logical entity that has some specific attributes and methods.\")\n",
    "# Object\n",
    "print(\"OBJECT... \\n The object is an entity that has state and behavior.\")\n",
    "# Attribute\n",
    "print(\"ATTRIBUTE...\\n Inheritance is the most important aspect of object-oriented programming which simulates the real world concept of inheritance.\")\n",
    "# Behavior\n",
    "print(\"BEHAVIORS...\\n Behaviors are the methods corresponding to the behavior of real world objects\")"
   ]
  },
  {
   "cell_type": "code",
   "execution_count": 39,
   "metadata": {},
   "outputs": [
    {
     "name": "stdout",
     "output_type": "stream",
     "text": [
      "Car name :  Civic\n",
      "Car Colour :  White\n",
      "fixed price of car :  50 lacs\n"
     ]
    }
   ],
   "source": [
    "# Question no 5\n",
    "class car:\n",
    "    def __init__(self,name, model, color, company):\n",
    "        self.name=name\n",
    "        self.model=model\n",
    "        self.color=color\n",
    "        self.company=company\n",
    "        self.price= \"50 lacs\"\n",
    "        \n",
    "    def print_name(self):\n",
    "        print(\"Car name : \",self.name)\n",
    "    \n",
    "    def print_color(self):\n",
    "        print(\"Car Colour : \",self.color)\n",
    "        \n",
    "    def print_model(self):\n",
    "        print(\"car model : \",self.model)\n",
    "        \n",
    "    def print_price(self):\n",
    "        print(\"fixed price of car : \",self.price)\n",
    "\n",
    "\n",
    "car1 = car(\"Civic\", 2010, \"white\", \"Honda\")\n",
    "car2 = car(\"Vigo\", 2019, \"White\", \"Toyota\")\n",
    "car3 = car(\"Corolla\", 2018, \"Black\", \"Toyota\")\n",
    "car4 = car(\"Mehran\", 2012, \"Black\", \"Suzuki\")\n",
    "car5 = car(\"Civic\", 2016, \"Red\", \"Honda\")\n",
    "              \n",
    "car1.print_name()\n",
    "car2.print_color()\n",
    "car5.print_price()\n"
   ]
  },
  {
   "cell_type": "code",
   "execution_count": null,
   "metadata": {},
   "outputs": [],
   "source": []
  },
  {
   "cell_type": "code",
   "execution_count": null,
   "metadata": {},
   "outputs": [],
   "source": []
  }
 ],
 "metadata": {
  "kernelspec": {
   "display_name": "Python 3",
   "language": "python",
   "name": "python3"
  },
  "language_info": {
   "codemirror_mode": {
    "name": "ipython",
    "version": 3
   },
   "file_extension": ".py",
   "mimetype": "text/x-python",
   "name": "python",
   "nbconvert_exporter": "python",
   "pygments_lexer": "ipython3",
   "version": "3.7.4"
  }
 },
 "nbformat": 4,
 "nbformat_minor": 2
}
