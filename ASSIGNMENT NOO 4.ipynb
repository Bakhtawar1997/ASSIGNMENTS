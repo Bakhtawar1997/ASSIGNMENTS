{
 "cells": [
  {
   "cell_type": "code",
   "execution_count": 1,
   "metadata": {},
   "outputs": [
    {
     "name": "stdout",
     "output_type": "stream",
     "text": [
      "{'first name': 'Bakhtawar', 'last name': 'Yousuf', 'age': '22', 'city': 'Karachi'}\n",
      "{'first name': 'Bakhtawar', 'last name': 'Yousuf', 'age': '22', 'city': 'Karachi', 'Qualification': 'To be updated'}\n",
      "{'first name': 'Bakhtawar', 'last name': 'Yousuf', 'age': '22', 'city': 'Karachi', 'Qualification': 'High academic level'}\n",
      "{'first name': 'Bakhtawar', 'last name': 'Yousuf', 'age': '22', 'city': 'Karachi'}\n"
     ]
    }
   ],
   "source": [
    "# Question no 1\n",
    "INFORMATION = {\n",
    "    \"first name\": \"Bakhtawar\",\n",
    "    \"last name\": \"Yousuf\",\n",
    "    \"age\": \"22\",\n",
    "    \"city\": \"Karachi\"\n",
    "}\n",
    "\n",
    "print(INFORMATION)\n",
    "\n",
    "INFORMATION[\"Qualification\"] = \"To be updated\"\n",
    "print(INFORMATION)\n",
    "\n",
    "INFORMATION[\"Qualification\"] = \"High academic level\"\n",
    "print(INFORMATION)\n",
    "\n",
    "del INFORMATION[\"Qualification\"]\n",
    "print(INFORMATION)\n",
    "    \n",
    "    "
   ]
  },
  {
   "cell_type": "code",
   "execution_count": 2,
   "metadata": {},
   "outputs": [
    {
     "name": "stdout",
     "output_type": "stream",
     "text": [
      "{'country': 'Pakistan', 'Name of city': 'Karachi', 'Population': 15741, 'fact': 'It is the very first capital of the country, known as the city of lights!'}\n",
      "{'country': 'Pakistan', 'Name of city': 'Lahore', 'population': 12188, 'fact': 'Lahore is the countrys second most populous city after karachi !'}\n",
      "{'country': 'Pakistan', 'Name of city': 'Islamabad', 'population': 19564, 'fact': 'Islamabad is the capital city of pakistan !'}\n"
     ]
    }
   ],
   "source": [
    "# Question no 2\n",
    "cities = {\n",
    "    \"Karachi\" : {\"country\"  : \"Pakistan\",\n",
    "                 \"Name of city\" : \"Karachi\",\n",
    "                 \"Population\" : 15741,\n",
    "                 \"fact\"       : \"It is the very first capital of the country, known as the city of lights!\"},\n",
    "    \n",
    "    \"Lahore\"  : {\"country\"  : \"Pakistan\",\n",
    "                 \"Name of city\" : \"Lahore\",\n",
    "                 \"population\" : 12188,\n",
    "                 \"fact\"      : \"Lahore is the countrys second most populous city after karachi !\"},\n",
    "    \n",
    "    \"Islamabad\"   : {\"country\"  : \"Pakistan\",\n",
    "                     \"Name of city\" : \"Islamabad\",\n",
    "                     \"population\" : 19564,\n",
    "                      \"fact\"     : \"Islamabad is the capital city of pakistan !\"}\n",
    "}\n",
    "\n",
    "print(cities[\"Karachi\"])\n",
    "print(cities[\"Lahore\"])\n",
    "print(cities[\"Islamabad\"])"
   ]
  },
  {
   "cell_type": "code",
   "execution_count": null,
   "metadata": {},
   "outputs": [
    {
     "name": "stdout",
     "output_type": "stream",
     "text": [
      "\n",
      "Enter your age or 'B' to stop asking :1\n",
      "Your ticket is free !\n",
      "\n",
      "Enter your age or 'B' to stop asking :8\n",
      "Your ticket is $10 !\n"
     ]
    }
   ],
   "source": [
    "# QUESTION NO 3\n",
    "flag = True\n",
    "while flag:\n",
    "    age = input(\"\\nEnter your age or 'B' to stop asking :\")\n",
    "    \n",
    "    if age.lower() == 'B':\n",
    "        flag = False\n",
    "    else:\n",
    "        int_age = int(age)\n",
    "        if int_age < 3:\n",
    "            print(\"Your ticket is free !\")\n",
    "        elif int_age >=3 and int_age <=12:\n",
    "            print(\"Your ticket is $10 !\")\n",
    "        elif int_age > 12:\n",
    "            print(\"Your ticket is $15 !\")"
   ]
  },
  {
   "cell_type": "code",
   "execution_count": 5,
   "metadata": {},
   "outputs": [
    {
     "name": "stdout",
     "output_type": "stream",
     "text": [
      "Enter The Book Title: Alice in wonderland\n",
      "One of my favourite book is  Alice in wonderland\n"
     ]
    }
   ],
   "source": [
    "# question no 4\n",
    "def favourite_book(book_name):\n",
    "    print(\"One of my favourite book is \",book_name) \n",
    "title=input(\"Enter The Book Title: \")\n",
    "\n",
    "favourite_book(title)"
   ]
  },
  {
   "cell_type": "code",
   "execution_count": null,
   "metadata": {},
   "outputs": [],
   "source": []
  },
  {
   "cell_type": "code",
   "execution_count": null,
   "metadata": {},
   "outputs": [],
   "source": []
  },
  {
   "cell_type": "code",
   "execution_count": 3,
   "metadata": {},
   "outputs": [
    {
     "name": "stdout",
     "output_type": "stream",
     "text": [
      "Guess the number between 1 to 30 : 8\n",
      "Your guess is too low\n",
      "Guess the number between 1 to 30 : 7\n",
      "Your guess is too low\n",
      "Guess the number between 1 to 30 : 9\n",
      "Your guess is too low\n",
      "You Loose\n",
      "Correct Number is 23\n"
     ]
    }
   ],
   "source": [
    "import random\n",
    "\n",
    "random_number = random.randrange(1,30)\n",
    "\n",
    "flag = False\n",
    "\n",
    "for i in range(1,4):\n",
    "    guess = int(input(\"Guess the number between 1 to 30 : \"))\n",
    "    if guess == random_number:\n",
    "        flag = True\n",
    "        break\n",
    "    elif guess < random_number:\n",
    "        print(\"Your guess is too low\")\n",
    "    else:\n",
    "            print(\"Your guess is too high\")\n",
    "            \n",
    "if flag:\n",
    "    print(\"Congratulation you Win!!\")\n",
    "else:\n",
    "    print(\"You Loose\")\n",
    "    print(\"Correct Number is\", random_number)\n",
    "        "
   ]
  },
  {
   "cell_type": "code",
   "execution_count": null,
   "metadata": {},
   "outputs": [],
   "source": [
    "\n"
   ]
  },
  {
   "cell_type": "code",
   "execution_count": null,
   "metadata": {},
   "outputs": [],
   "source": []
  },
  {
   "cell_type": "code",
   "execution_count": null,
   "metadata": {},
   "outputs": [],
   "source": []
  }
 ],
 "metadata": {
  "kernelspec": {
   "display_name": "Python 3",
   "language": "python",
   "name": "python3"
  },
  "language_info": {
   "codemirror_mode": {
    "name": "ipython",
    "version": 3
   },
   "file_extension": ".py",
   "mimetype": "text/x-python",
   "name": "python",
   "nbconvert_exporter": "python",
   "pygments_lexer": "ipython3",
   "version": "3.7.4"
  }
 },
 "nbformat": 4,
 "nbformat_minor": 2
}
