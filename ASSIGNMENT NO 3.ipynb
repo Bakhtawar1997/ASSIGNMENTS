{
 "cells": [
  {
   "cell_type": "code",
   "execution_count": 5,
   "metadata": {},
   "outputs": [
    {
     "name": "stdout",
     "output_type": "stream",
     "text": [
      "Enter your first number8\n",
      "Enter your second number7\n",
      "Enter your condition-\n",
      "Subtraction of  8  &  7  is  1\n"
     ]
    }
   ],
   "source": [
    "num1 = int(input(\"Enter your first number\"))\n",
    "num2 = int(input(\"Enter your second number\"))\n",
    "condition = input(\"Enter your condition\")\n",
    "\n",
    "if condition == '+':\n",
    "    result = num1 + num2\n",
    "    print(\"Addition of \",num1,\" & \",num2,\" is \", result)\n",
    "elif condition == '-':\n",
    "    result = num1 - num2\n",
    "    print(\"Subtraction of \",num1,\" & \",num2,\" is \", result)\n",
    "elif condition == '*':\n",
    "    result = num1 * num2\n",
    "    print(\"Multiplication of \",num1,\" & \",num2,\" is \", result)\n",
    "elif condition == '/':\n",
    "    result = num1 / num2\n",
    "    print(\"division of \",num1,\" & \",num2,\" is \", result)\n",
    "elif condition == '**':\n",
    "    result = num1 ** num2\n",
    "    print(\"power of \",num1,\" & \",num2,\" is \", result)"
   ]
  },
  {
   "cell_type": "raw",
   "metadata": {},
   "source": []
  },
  {
   "cell_type": "code",
   "execution_count": 6,
   "metadata": {},
   "outputs": [
    {
     "name": "stdout",
     "output_type": "stream",
     "text": [
      "4 is a numeric value in list\n",
      "5 is a numeric value in list\n",
      "8 is a numeric value in list\n"
     ]
    }
   ],
   "source": [
    "arr = [\"cat\" , \"chicken\" , 4,5, \"bird\" , 8]\n",
    "for b in arr:\n",
    "    if type(b) == int:\n",
    "        print(b, \"is a numeric value in list\")"
   ]
  },
  {
   "cell_type": "code",
   "execution_count": 8,
   "metadata": {},
   "outputs": [
    {
     "name": "stdout",
     "output_type": "stream",
     "text": [
      "Enter keyvillage\n",
      "Enter value567\n",
      "{'village': '567'}\n"
     ]
    }
   ],
   "source": [
    "dic = {}\n",
    "keyinput = input(\"Enter key\" )\n",
    "valueinput = input(\"Enter value\" )\n",
    "dic.update({keyinput:valueinput})\n",
    "\n",
    "print(dic)"
   ]
  },
  {
   "cell_type": "code",
   "execution_count": 19,
   "metadata": {},
   "outputs": [
    {
     "name": "stdout",
     "output_type": "stream",
     "text": [
      "sum of all numeric value a dictionary is 82\n"
     ]
    }
   ],
   "source": [
    "dic = {\n",
    "    'num1' : 15,\n",
    "    'num2' : 13,\n",
    "    'num3' : 54,\n",
    "}\n",
    "\n",
    "sum = 0\n",
    "\n",
    "for b in dic.values():\n",
    "    if type(b) == int:\n",
    "        sum +=b\n",
    "\n",
    "print(\"sum of all numeric value a dictionary is\" , sum)\n"
   ]
  },
  {
   "cell_type": "code",
   "execution_count": 1,
   "metadata": {},
   "outputs": [
    {
     "name": "stdout",
     "output_type": "stream",
     "text": [
      "duplicate item in list are [2, 5, 6]\n"
     ]
    }
   ],
   "source": [
    "arr = [2, 5, 6, 6, 7, 2, 6, 4, 5]\n",
    "list_range = len(arr)\n",
    "repeated = []\n",
    "for b in range (list_range):\n",
    "    a = b + 1\n",
    "    for n in range(a, list_range):\n",
    "        if arr[b] == arr[n] and arr[b] not in repeated:\n",
    "            repeated.append(arr[b])\n",
    "print(\"duplicate item in list are\" , repeated)"
   ]
  },
  {
   "cell_type": "code",
   "execution_count": 2,
   "metadata": {},
   "outputs": [
    {
     "name": "stdout",
     "output_type": "stream",
     "text": [
      "Enter Key Name Check if exist or notnum2\n",
      "Given Key exist\n"
     ]
    }
   ],
   "source": [
    "dic = {\n",
    "    'num1' : 70,\n",
    "    'num2' : 19,\n",
    "    'string':'Name',\n",
    "    'char':'a',\n",
    "    'num3' : 17,\n",
    "    'num4':65,\n",
    "}\n",
    "check_key = input(\"Enter Key Name Check if exist or not\")\n",
    "flag = False\n",
    "for b in dic.keys():\n",
    "    if b == check_key:\n",
    "        flag = True\n",
    "        break\n",
    "\n",
    "if flag:\n",
    "    print(\"Given Key exist\")\n",
    "else:\n",
    "    print(\"Given Key dose not exist\")\n",
    "\n",
    "    \n"
   ]
  },
  {
   "cell_type": "code",
   "execution_count": null,
   "metadata": {},
   "outputs": [],
   "source": []
  },
  {
   "cell_type": "code",
   "execution_count": null,
   "metadata": {},
   "outputs": [],
   "source": []
  }
 ],
 "metadata": {
  "kernelspec": {
   "display_name": "Python 3",
   "language": "python",
   "name": "python3"
  },
  "language_info": {
   "codemirror_mode": {
    "name": "ipython",
    "version": 3
   },
   "file_extension": ".py",
   "mimetype": "text/x-python",
   "name": "python",
   "nbconvert_exporter": "python",
   "pygments_lexer": "ipython3",
   "version": "3.7.4"
  }
 },
 "nbformat": 4,
 "nbformat_minor": 2
}
