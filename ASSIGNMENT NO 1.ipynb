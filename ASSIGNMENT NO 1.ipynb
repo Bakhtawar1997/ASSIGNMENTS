{
 "cells": [
  {
   "cell_type": "code",
   "execution_count": 6,
   "metadata": {},
   "outputs": [
    {
     "name": "stdout",
     "output_type": "stream",
     "text": [
      "Twinkle, twinkle, little star, \n",
      " \t  How I wonder what you are!\n",
      " \t \t Up above the world so high, \n",
      " \t \t Like a diamond in the sky. \n",
      "Twinkle, twinkle, little star, \n",
      " \t How I wonder what you are\n"
     ]
    }
   ],
   "source": [
    "# question - 1\n",
    "A= (\"Twinkle, twinkle, little star, \\n \\t  How I wonder what you are!\\n \\t \\t Up above the world so high, \\n \\t \\t Like a diamond in the sky. \\nTwinkle, twinkle, little star, \\n \\t How I wonder what you are\")\n",
    "print(A)"
   ]
  },
  {
   "cell_type": "code",
   "execution_count": 8,
   "metadata": {},
   "outputs": [
    {
     "name": "stdout",
     "output_type": "stream",
     "text": [
      "3.7.4 (default, Aug  9 2019, 18:34:13) [MSC v.1915 64 bit (AMD64)]\n"
     ]
    }
   ],
   "source": [
    "# QUESTION - 2\n",
    "\n",
    "import sys\n",
    "print(sys.version)"
   ]
  },
  {
   "cell_type": "code",
   "execution_count": 9,
   "metadata": {},
   "outputs": [
    {
     "name": "stdout",
     "output_type": "stream",
     "text": [
      "current date and time ;  09-11-19 13:26:37\n"
     ]
    }
   ],
   "source": [
    "# QUESTION - 3\n",
    "import datetime\n",
    "current = datetime.datetime.now()\n",
    "print(\"current date and time ; \",current.strftime(\"%d-%m-%y %H:%M:%S\"))"
   ]
  },
  {
   "cell_type": "code",
   "execution_count": 2,
   "metadata": {},
   "outputs": [
    {
     "name": "stdout",
     "output_type": "stream",
     "text": [
      "Enter redius of the circle: 2\n",
      "Area of the given circle is  12.56\n"
     ]
    }
   ],
   "source": [
    "# QUESTION - 4\n",
    "radius=float(input(\"Enter redius of the circle: \"))\n",
    "r2= radius**2\n",
    "Area=3.14*r2\n",
    "print(\"Area of the given circle is \",Area)"
   ]
  },
  {
   "cell_type": "code",
   "execution_count": 4,
   "metadata": {},
   "outputs": [
    {
     "name": "stdout",
     "output_type": "stream",
     "text": [
      "Enter Your First Namelast\n",
      "Enter Your Last Namefirst\n",
      "first last\n"
     ]
    }
   ],
   "source": [
    "# QUESTION - 5\n",
    "\n",
    "first_name = input('Enter Your First Name')\n",
    "last_name = input('Enter Your Last Name')\n",
    "\n",
    "print(last_name + ' ' + first_name )\n"
   ]
  },
  {
   "cell_type": "code",
   "execution_count": 5,
   "metadata": {},
   "outputs": [
    {
     "name": "stdout",
     "output_type": "stream",
     "text": [
      "Enter first value: 7\n",
      "Enter second value: 8\n",
      "The sum of both the value is:  15.0\n"
     ]
    }
   ],
   "source": [
    "# QUESTION - 6\n",
    "Num1=float(input(\"Enter first value: \"))\n",
    "Num2=float(input(\"Enter second value: \"))\n",
    "Result=Num1+Num2\n",
    "print(\"The sum of both the value is: \",Result)"
   ]
  },
  {
   "cell_type": "code",
   "execution_count": null,
   "metadata": {},
   "outputs": [],
   "source": []
  },
  {
   "cell_type": "code",
   "execution_count": null,
   "metadata": {},
   "outputs": [],
   "source": []
  },
  {
   "cell_type": "code",
   "execution_count": null,
   "metadata": {},
   "outputs": [],
   "source": []
  },
  {
   "cell_type": "code",
   "execution_count": null,
   "metadata": {},
   "outputs": [],
   "source": []
  }
 ],
 "metadata": {
  "kernelspec": {
   "display_name": "Python 3",
   "language": "python",
   "name": "python3"
  },
  "language_info": {
   "codemirror_mode": {
    "name": "ipython",
    "version": 3
   },
   "file_extension": ".py",
   "mimetype": "text/x-python",
   "name": "python",
   "nbconvert_exporter": "python",
   "pygments_lexer": "ipython3",
   "version": "3.7.4"
  }
 },
 "nbformat": 4,
 "nbformat_minor": 2
}
