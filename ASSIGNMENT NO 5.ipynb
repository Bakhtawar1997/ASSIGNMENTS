{
 "cells": [
  {
   "cell_type": "code",
   "execution_count": 6,
   "metadata": {},
   "outputs": [
    {
     "name": "stdout",
     "output_type": "stream",
     "text": [
      "Enter number to calculate factorial6\n",
      "factorial of 6 is 720\n"
     ]
    }
   ],
   "source": [
    "# question no 1\n",
    "\n",
    "def factorial(B):\n",
    "    result = 1\n",
    "    while(B>=1):\n",
    "        result = result * B\n",
    "        B = B-1\n",
    "    return result\n",
    "B = int(input(\"Enter number to calculate factorial\"))\n",
    "Y = (factorial (B))\n",
    "print((\"factorial of \") + str(B) + (\" is \") + str(Y)  )"
   ]
  },
  {
   "cell_type": "code",
   "execution_count": 4,
   "metadata": {},
   "outputs": [
    {
     "name": "stdout",
     "output_type": "stream",
     "text": [
      "Original String :  JUPyteR\n",
      "No. of Upper case characters :  4\n",
      "No. of Lower case Characters :  3\n"
     ]
    }
   ],
   "source": [
    "# question n0 2\n",
    "\n",
    "def case_letter(B):\n",
    "    F={\"UPPER_CASE\":0, \"LOWER_CASE\":0}\n",
    "    for Y in B:\n",
    "        if Y.isupper():\n",
    "            F[\"UPPER_CASE\"]+=1\n",
    "        elif Y.islower():\n",
    "            F[\"LOWER_CASE\"]+=1\n",
    "        else:\n",
    "            pass\n",
    "    print (\"Original String : \", B)\n",
    "    print (\"No. of Upper case characters : \", F[\"UPPER_CASE\"])\n",
    "    print (\"No. of Lower case Characters : \", F[\"LOWER_CASE\"])\n",
    "\n",
    "case_letter (\"JUPyteR\")\n"
   ]
  },
  {
   "cell_type": "code",
   "execution_count": 5,
   "metadata": {},
   "outputs": [
    {
     "name": "stdout",
     "output_type": "stream",
     "text": [
      "4\n",
      "8\n",
      "2\n"
     ]
    }
   ],
   "source": [
    "# question no 3\n",
    "\n",
    "def even_num(numbers):\n",
    "    for number in numbers:\n",
    "        if number % 2 == 0:\n",
    "            print(number)\n",
    "            \n",
    "# Calling\n",
    "even_num([1,3,4,5,7,8,9,2,3,5])\n"
   ]
  },
  {
   "cell_type": "code",
   "execution_count": 18,
   "metadata": {},
   "outputs": [
    {
     "name": "stdout",
     "output_type": "stream",
     "text": [
      "True\n"
     ]
    }
   ],
   "source": [
    "# question no 4\n",
    "\n",
    "def is_palindrome(string):\n",
    "    left = 0\n",
    "    right = len(string) - 1\n",
    "    while right >= left:\n",
    "        if not string[left] == string[right]:\n",
    "            return False\n",
    "        else:\n",
    "            left += 1\n",
    "            right -= 1\n",
    "            return True\n",
    "print(is_palindrome('MADAM'))\n",
    "\n"
   ]
  },
  {
   "cell_type": "code",
   "execution_count": 17,
   "metadata": {},
   "outputs": [
    {
     "name": "stdout",
     "output_type": "stream",
     "text": [
      "6 is not a prime number \n",
      "7 is a prime number \n"
     ]
    }
   ],
   "source": [
    "# question no 5\n",
    "\n",
    "def prime_numbers(value):\n",
    "    flag = True\n",
    "    if value > 1:  \n",
    "        for i in range(2,value):  \n",
    "            if (value % i) == 0:  \n",
    "                print(value,\"is not a prime number \")  \n",
    "                flag = False\n",
    "                break  \n",
    "        if flag:\n",
    "            print(value, \"is a prime number \")\n",
    "\n",
    "    else:\n",
    "        print(value, \"is not a prime number  \")\n",
    "\n",
    "    # Calling\n",
    "prime_numbers(6)\n",
    "prime_numbers(7)"
   ]
  },
  {
   "cell_type": "code",
   "execution_count": 24,
   "metadata": {},
   "outputs": [
    {
     "name": "stdout",
     "output_type": "stream",
     "text": [
      " Your item name milk,\n",
      " Your item name ice cream,\n",
      " Your item name coffee,\n"
     ]
    }
   ],
   "source": [
    "# question no 6\n",
    "\n",
    "def shopping(*items):\n",
    "    for shopping in items:\n",
    "        print(\" Your item name\",shopping)\n",
    "        \n",
    "shopping(\"milk,\", \"ice cream,\", \"coffee,\")\n"
   ]
  },
  {
   "cell_type": "code",
   "execution_count": null,
   "metadata": {},
   "outputs": [],
   "source": []
  },
  {
   "cell_type": "code",
   "execution_count": null,
   "metadata": {},
   "outputs": [],
   "source": [
    "\n"
   ]
  }
 ],
 "metadata": {
  "kernelspec": {
   "display_name": "Python 3",
   "language": "python",
   "name": "python3"
  },
  "language_info": {
   "codemirror_mode": {
    "name": "ipython",
    "version": 3
   },
   "file_extension": ".py",
   "mimetype": "text/x-python",
   "name": "python",
   "nbconvert_exporter": "python",
   "pygments_lexer": "ipython3",
   "version": "3.7.4"
  }
 },
 "nbformat": 4,
 "nbformat_minor": 2
}
